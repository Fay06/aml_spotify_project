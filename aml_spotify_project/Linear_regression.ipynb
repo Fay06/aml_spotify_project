{
 "cells": [
  {
   "cell_type": "code",
   "execution_count": 58,
   "metadata": {},
   "outputs": [],
   "source": [
    "import pandas as pd\n",
    "import numpy as np\n",
    "import matplotlib.pyplot as plt\n",
    "import seaborn as sns"
   ]
  },
  {
   "cell_type": "code",
   "execution_count": 59,
   "metadata": {},
   "outputs": [],
   "source": [
    "train = pd.read_csv(\"data/train.csv.gz\")\n",
    "test = pd.read_csv(\"data/test.csv.gz\")\n",
    "\n",
    "train = train.iloc[:, 1:]\n",
    "test = test.iloc[:, 1:]\n",
    "\n",
    "train[\"artists\"] = train[\"artists\"].str[1:-1].str.replace(\"'\", \"\").str.split(\",\")\n",
    "train[\"artist_ids\"] = train[\"artist_ids\"].str[1:-1].str.replace(\"'\", \"\").str.split(\",\")\n",
    "\n",
    "test[\"artists\"] = test[\"artists\"].str[1:-1].str.replace(\"'\", \"\").str.split(\",\")\n",
    "test[\"artist_ids\"] = test[\"artist_ids\"].str[1:-1].str.replace(\"'\", \"\").str.split(\",\")"
   ]
  },
  {
   "cell_type": "code",
   "execution_count": 60,
   "metadata": {},
   "outputs": [],
   "source": [
    "y_train = train[\"year\"]\n",
    "y_test = test[\"year\"]\n",
    "\n",
    "X_train = train.drop([\"year\", \"decade\"], axis=1)\n",
    "X_test = test.drop([\"year\", \"decade\"], axis=1)"
   ]
  },
  {
   "cell_type": "code",
   "execution_count": 61,
   "metadata": {},
   "outputs": [],
   "source": [
    "continuous_cols = [\"explicit\", \"danceability\", \"energy\", \"key\", \"loudness\", \"mode\", \"speechiness\", \"acousticness\", \"instrumentalness\", \"liveness\", \"valence\", \"tempo\", \"duration_ms\", \"time_signature\", \"num_artists\"]\n",
    "X_train = X_train[continuous_cols + [\"primary_artist\"]]\n",
    "X_test = X_test[continuous_cols + [\"primary_artist\"]]"
   ]
  },
  {
   "cell_type": "code",
   "execution_count": 62,
   "metadata": {},
   "outputs": [],
   "source": [
    "import category_encoders as ce\n",
    "\n",
    "te = ce.TargetEncoder()\n",
    "te.fit(X_train[\"primary_artist\"], y_train)\n",
    "\n",
    "X_train[\"primary_artist\"] = te.transform(X_train[\"primary_artist\"])\n",
    "\n",
    "X_train[\"explicit\"] = X_train[\"explicit\"].astype(int)\n",
    "\n",
    "X_test[\"primary_artist\"] = te.transform(X_test[\"primary_artist\"])\n",
    "X_test[\"explicit\"] = X_test[\"explicit\"].astype(int)"
   ]
  },
  {
   "cell_type": "code",
   "execution_count": 63,
   "metadata": {},
   "outputs": [],
   "source": [
    "from sklearn.model_selection import train_test_split\n",
    "\n",
    "X_dev, X_val, y_dev, y_val = train_test_split(X_train, y_train, test_size=0.2, random_state=88)"
   ]
  },
  {
   "cell_type": "code",
   "execution_count": 64,
   "metadata": {},
   "outputs": [],
   "source": [
    "from sklearn.linear_model import LinearRegression"
   ]
  },
  {
   "cell_type": "code",
   "execution_count": 82,
   "metadata": {},
   "outputs": [
    {
     "name": "stdout",
     "output_type": "stream",
     "text": [
      "R^2 on validation set: 0.4289264866208158\n",
      "R^2 on test set: 0.4291334497530419\n"
     ]
    }
   ],
   "source": [
    "linear_reg = LinearRegression()\n",
    "linear_reg.fit(X_dev, y_dev)\n",
    "print(\"R^2 on validation set:\" ,linear_reg.score(X_val, y_val))\n",
    "print(\"R^2 on test set:\", linear_reg.score(X_test, y_test))"
   ]
  },
  {
   "cell_type": "code",
   "execution_count": 77,
   "metadata": {},
   "outputs": [],
   "source": [
    "y_train = train[\"danceability\"]\n",
    "y_test = test[\"danceability\"]"
   ]
  },
  {
   "cell_type": "code",
   "execution_count": 78,
   "metadata": {},
   "outputs": [],
   "source": [
    "continuous_cols = [\"explicit\", \"energy\", \"key\", \"loudness\", \"mode\", \"speechiness\", \"acousticness\", \"instrumentalness\", \"liveness\", \"valence\", \"tempo\", \"duration_ms\", \"time_signature\"]\n",
    "X_train = train[continuous_cols]\n",
    "X_test = test[continuous_cols]"
   ]
  },
  {
   "cell_type": "code",
   "execution_count": 81,
   "metadata": {},
   "outputs": [
    {
     "name": "stdout",
     "output_type": "stream",
     "text": [
      "R^2 on validation set: 0.4289264866208158\n",
      "R^2 on test set: 0.4291334497530419\n"
     ]
    }
   ],
   "source": [
    "X_dev, X_val, y_dev, y_val = train_test_split(X_train, y_train, test_size=0.2, random_state=88)\n",
    "linear_reg_dance = LinearRegression()\n",
    "linear_reg_dance.fit(X_dev, y_dev)\n",
    "print(\"R^2 on validation set:\", linear_reg_dance.score(X_val, y_val))\n",
    "print(\"R^2 on test set:\", linear_reg_dance.score(X_test, y_test))"
   ]
  },
  {
   "cell_type": "code",
   "execution_count": null,
   "metadata": {},
   "outputs": [],
   "source": []
  }
 ],
 "metadata": {
  "kernelspec": {
   "display_name": "Python 3",
   "language": "python",
   "name": "python3"
  },
  "language_info": {
   "codemirror_mode": {
    "name": "ipython",
    "version": 3
   },
   "file_extension": ".py",
   "mimetype": "text/x-python",
   "name": "python",
   "nbconvert_exporter": "python",
   "pygments_lexer": "ipython3",
   "version": "3.7.3"
  }
 },
 "nbformat": 4,
 "nbformat_minor": 2
}
