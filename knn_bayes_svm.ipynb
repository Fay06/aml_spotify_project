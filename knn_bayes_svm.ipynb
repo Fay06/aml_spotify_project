{
 "cells": [
  {
   "cell_type": "code",
   "execution_count": 37,
   "metadata": {},
   "outputs": [],
   "source": [
    "import pandas as pd\n",
    "import numpy as np\n",
    "import matplotlib.pyplot as plt\n",
    "import seaborn as sns\n",
    "from sklearn.ensemble import GradientBoostingClassifier, RandomForestClassifier\n",
    "from sklearn.metrics import accuracy_score\n",
    "from sklearn.model_selection import train_test_split\n",
    "import category_encoders as ce\n",
    "import warnings\n",
    "warnings.filterwarnings(\"ignore\")\n",
    "plt.rcParams[\"figure.dpi\"] = 300"
   ]
  },
  {
   "cell_type": "code",
   "execution_count": 38,
   "metadata": {},
   "outputs": [],
   "source": [
    "train = pd.read_csv(\"data/train.csv.gz\", compression=\"gzip\")\n",
    "test = pd.read_csv(\"data/test.csv.gz\", compression=\"gzip\")\n",
    "\n",
    "train = train.iloc[:, 1:]\n",
    "test = test.iloc[:, 1:]\n",
    "\n",
    "train[\"artists\"] = train[\"artists\"].str[1:-1].str.replace(\"'\", \"\").str.split(\",\")\n",
    "train[\"artist_ids\"] = train[\"artist_ids\"].str[1:-1].str.replace(\"'\", \"\").str.split(\",\")\n",
    "\n",
    "test[\"artists\"] = test[\"artists\"].str[1:-1].str.replace(\"'\", \"\").str.split(\",\")\n",
    "test[\"artist_ids\"] = test[\"artist_ids\"].str[1:-1].str.replace(\"'\", \"\").str.split(\",\")"
   ]
  },
  {
   "cell_type": "code",
   "execution_count": 39,
   "metadata": {},
   "outputs": [],
   "source": [
    "y_train = train[\"decade\"]-1\n",
    "y_test = test[\"decade\"]-1\n",
    "\n",
    "X_train = train.drop([\"year\", \"decade\"], axis=1)\n",
    "X_test = test.drop([\"year\", \"decade\"], axis=1)"
   ]
  },
  {
   "cell_type": "code",
   "execution_count": 40,
   "metadata": {},
   "outputs": [],
   "source": [
    "continuous_cols = [\"explicit\", \"danceability\", \"energy\", \"key\", \"loudness\", \"mode\", \"speechiness\", \"acousticness\", \"instrumentalness\", \"liveness\", \"valence\", \"tempo\", \"duration_ms\", \"time_signature\", \"num_artists\"]\n",
    "X_train = X_train[continuous_cols + [\"primary_artist\"]]\n",
    "X_test = X_test[continuous_cols + [\"primary_artist\"]]"
   ]
  },
  {
   "cell_type": "code",
   "execution_count": 41,
   "metadata": {},
   "outputs": [],
   "source": [
    "te = ce.TargetEncoder()\n",
    "te.fit(X_train[\"primary_artist\"], train[\"year\"])\n",
    "\n",
    "X_train[\"primary_artist\"] = te.transform(X_train[\"primary_artist\"])\n",
    "X_train[\"explicit\"] = X_train[\"explicit\"].astype(int)\n",
    "\n",
    "X_test[\"primary_artist\"] = te.transform(X_test[\"primary_artist\"])\n",
    "X_test[\"explicit\"] = X_test[\"explicit\"].astype(int)"
   ]
  },
  {
   "cell_type": "code",
   "execution_count": 42,
   "metadata": {},
   "outputs": [],
   "source": [
    "X_dev, X_val, y_dev, y_val = train_test_split(X_train, y_train, test_size=0.2, random_state=88)"
   ]
  },
  {
   "cell_type": "code",
   "execution_count": 43,
   "metadata": {},
   "outputs": [
    {
     "name": "stdout",
     "output_type": "stream",
     "text": [
      "The accuracy for knn when k = 3 is: 0.4081936202741572\n",
      "The accuracy for knn when k = 6 is: 0.4338213573112902\n",
      "The accuracy for knn when k = 9 is: 0.4396465497136638\n",
      "The accuracy for knn when k = 12 is: 0.4396310020471094\n"
     ]
    }
   ],
   "source": [
    "from sklearn.neighbors import KNeighborsClassifier\n",
    "for k in range(3,15,3):\n",
    "    knn = KNeighborsClassifier(n_neighbors = k).fit(X_train, y_train)\n",
    "    accuracy = knn.score(X_test, y_test)\n",
    "    print(\"The accuracy for knn when k =\", k,\"is:\", accuracy)\n",
    "  "
   ]
  },
  {
   "cell_type": "code",
   "execution_count": 44,
   "metadata": {},
   "outputs": [
    {
     "name": "stdout",
     "output_type": "stream",
     "text": [
      "accuracy for the naive bayes classifier is: 0.6204348164079708\n"
     ]
    }
   ],
   "source": [
    "from sklearn.naive_bayes import GaussianNB\n",
    "from sklearn.metrics import confusion_matrix\n",
    "gnb = GaussianNB().fit(X_train, y_train)\n",
    "gnb_predictions = gnb.predict(X_test)\n",
    "  \n",
    "# accuracy on X_test\n",
    "accuracy = gnb.score(X_test, y_test)\n",
    "print (\"accuracy for the naive bayes classifier is:\", accuracy)\n",
    "  \n",
    "# creating a confusion matrix\n",
    "cm = confusion_matrix(y_test, gnb_predictions)"
   ]
  },
  {
   "cell_type": "code",
   "execution_count": 48,
   "metadata": {},
   "outputs": [
    {
     "name": "stdout",
     "output_type": "stream",
     "text": [
      "Accuracy score for train dataset: 0.40869117375545383\n",
      "Accuracy score for validation dataset: 0.4092599310720116\n",
      "Accuracy score for test dataset: 0.4111424943639709\n"
     ]
    }
   ],
   "source": [
    "from sklearn.svm import LinearSVC\n",
    "primal_svm = LinearSVC(dual = False)\n",
    "primal_svm.fit(X_dev, np.ravel(y_dev))\n",
    "acc_train = accuracy_score(primal_svm.predict(X_dev), y_dev)\n",
    "acc_val = accuracy_score(primal_svm.predict(X_val), y_val)\n",
    "acc_test = accuracy_score(primal_svm.predict(X_test), y_test)\n",
    "\n",
    "print(\"Accuracy score for train dataset:\", acc_train)\n",
    "print(\"Accuracy score for validation dataset:\", acc_val)\n",
    "print(\"Accuracy score for test dataset:\", acc_test)"
   ]
  },
  {
   "cell_type": "code",
   "execution_count": null,
   "metadata": {},
   "outputs": [],
   "source": []
  }
 ],
 "metadata": {
  "kernelspec": {
   "display_name": "Python 3",
   "language": "python",
   "name": "python3"
  },
  "language_info": {
   "codemirror_mode": {
    "name": "ipython",
    "version": 3
   },
   "file_extension": ".py",
   "mimetype": "text/x-python",
   "name": "python",
   "nbconvert_exporter": "python",
   "pygments_lexer": "ipython3",
   "version": "3.7.3"
  }
 },
 "nbformat": 4,
 "nbformat_minor": 2
}
